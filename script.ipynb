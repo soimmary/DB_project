{
 "cells": [
  {
   "cell_type": "code",
   "execution_count": 2,
   "metadata": {},
   "outputs": [],
   "source": [
    "import mysql.connector"
   ]
  },
  {
   "cell_type": "code",
   "execution_count": 50,
   "metadata": {},
   "outputs": [],
   "source": [
    "con = mysql.connector.connect(\n",
    "    host=\"localhost\", \n",
    "    port=3306, \n",
    "    user=\"root\", \n",
    "    password=\"my-secret-pw\",\n",
    "    auth_plugin='mysql_native_password',\n",
    "    database=\"ded_moroz_schema\"\n",
    ")"
   ]
  },
  {
   "cell_type": "code",
   "execution_count": 51,
   "metadata": {},
   "outputs": [],
   "source": [
    "cur = con.cursor()"
   ]
  },
  {
   "cell_type": "code",
   "execution_count": 54,
   "metadata": {},
   "outputs": [
    {
     "data": {
      "text/plain": [
       "[(1, 'Ivan', 'Ivanov', 'm', 10, 1, 1, 1),\n",
       " (2, 'Petr', 'Petrov', 'm', 5, 1, 2, 2),\n",
       " (3, 'Andrey', 'Babkin', 'm', 21, 0, 3, 3),\n",
       " (4, 'Masha', 'Levitina', 'f', 5, 0, 4, 3),\n",
       " (5, 'Ivan', 'Bobov', 'm', 6, 1, 4, 4)]"
      ]
     },
     "execution_count": 54,
     "metadata": {},
     "output_type": "execute_result"
    }
   ],
   "source": [
    "cur.execute(\"SELECT * FROM children\")\n",
    "res = cur.fetchall()\n",
    "res"
   ]
  },
  {
   "cell_type": "markdown",
   "metadata": {},
   "source": [
    "## CRUD"
   ]
  },
  {
   "cell_type": "markdown",
   "metadata": {},
   "source": [
    "Идея! Создадим дополнительную таблицу, в которой будут храниться письма детей Деду Морозу."
   ]
  },
  {
   "cell_type": "markdown",
   "metadata": {},
   "source": [
    "### Create"
   ]
  },
  {
   "cell_type": "code",
   "execution_count": 85,
   "metadata": {},
   "outputs": [],
   "source": [
    "cur.execute(\"\"\"CREATE TABLE IF NOT EXISTS ded_moroz_schema.letters (\n",
    "               id INT NOT NULL AUTO_INCREMENT,\n",
    "               child_id VARCHAR(8192),\n",
    "               content VARCHAR(100),\n",
    "               PRIMARY KEY (`id`));\"\"\")\n",
    "\n",
    "cur.execute(command)\n",
    "con.commit()"
   ]
  },
  {
   "cell_type": "markdown",
   "metadata": {},
   "source": [
    "### Insert"
   ]
  },
  {
   "cell_type": "code",
   "execution_count": 91,
   "metadata": {},
   "outputs": [],
   "source": [
    "command = ('''INSERT INTO letters (id, child_id, content) \n",
    "              VALUES (1, 1, \"Дорогой Дед Мороз, я был хорошим мальчиком, поради мне подарочек\")''')\n",
    "cur.execute(command)\n",
    "con.commit()"
   ]
  },
  {
   "cell_type": "code",
   "execution_count": null,
   "metadata": {},
   "outputs": [],
   "source": [
    "command = ('''INSERT INTO letters (id, child_id, content) \n",
    "              VALUES (2, 2, \"Дорогой Дедушка Мороз, хочу подарочек\")''')\n",
    "cur.execute(command)\n",
    "con.commit()"
   ]
  },
  {
   "cell_type": "code",
   "execution_count": 92,
   "metadata": {},
   "outputs": [
    {
     "data": {
      "text/plain": [
       "[(1, 1, 'Дорогой Дед Мороз, я был хорошим мальчиком, поради мне подарочек'),\n",
       " (2, 2, 'Дорогой Дедушка Мороз, хочу подарочек')]"
      ]
     },
     "execution_count": 92,
     "metadata": {},
     "output_type": "execute_result"
    }
   ],
   "source": [
    "cur.execute(\"SELECT * FROM letters\")\n",
    "res = cur.fetchall()\n",
    "res"
   ]
  },
  {
   "cell_type": "markdown",
   "metadata": {},
   "source": [
    "### Delete"
   ]
  },
  {
   "cell_type": "code",
   "execution_count": 94,
   "metadata": {},
   "outputs": [],
   "source": [
    "command = \"DELETE FROM letters WHERE id = 1 \"\n",
    "cur.execute(command)\n",
    "con.commit()"
   ]
  },
  {
   "cell_type": "code",
   "execution_count": 95,
   "metadata": {},
   "outputs": [
    {
     "data": {
      "text/plain": [
       "[(2, 2, 'Дорогой Дедушка Мороз, хочу подарочек')]"
      ]
     },
     "execution_count": 95,
     "metadata": {},
     "output_type": "execute_result"
    }
   ],
   "source": [
    "cur.execute(\"SELECT * FROM letters\")\n",
    "res = cur.fetchall()\n",
    "res"
   ]
  },
  {
   "cell_type": "markdown",
   "metadata": {},
   "source": [
    "### Update"
   ]
  },
  {
   "cell_type": "code",
   "execution_count": 97,
   "metadata": {},
   "outputs": [],
   "source": [
    "command = \"UPDATE letters SET child_id=2, content='Дорогой Дедушка Мороз, хочу мир во всем мире' WHERE id=2\"\n",
    "cur.execute(command)\n",
    "con.commit()"
   ]
  },
  {
   "cell_type": "code",
   "execution_count": 98,
   "metadata": {},
   "outputs": [
    {
     "data": {
      "text/plain": [
       "[(2, 2, 'Дорогой Дедушка Мороз, хочу мир во всем мире')]"
      ]
     },
     "execution_count": 98,
     "metadata": {},
     "output_type": "execute_result"
    }
   ],
   "source": [
    "cur.execute(\"SELECT * FROM letters\")\n",
    "res = cur.fetchall()\n",
    "res"
   ]
  },
  {
   "cell_type": "markdown",
   "metadata": {},
   "source": [
    "### 1.1 Посчитать общее число детей и вывести уникальные имена\n",
    "- Агрегация"
   ]
  },
  {
   "cell_type": "code",
   "execution_count": 24,
   "metadata": {},
   "outputs": [
    {
     "name": "stdout",
     "output_type": "stream",
     "text": [
      "5\n"
     ]
    }
   ],
   "source": [
    "q = ('''\n",
    "    SELECT COUNT(id) FROM children;\n",
    "    ''')\n",
    "\n",
    "cur.execute(q)\n",
    "data = cur.fetchall()\n",
    "print(data[0][0])"
   ]
  },
  {
   "cell_type": "code",
   "execution_count": 74,
   "metadata": {},
   "outputs": [
    {
     "name": "stdout",
     "output_type": "stream",
     "text": [
      "Ivan\n",
      "Petr\n",
      "Andrey\n",
      "Masha\n"
     ]
    }
   ],
   "source": [
    "q = ('''\n",
    "    SELECT distinct name FROM children;\n",
    "    ''')\n",
    "\n",
    "cur.execute(q)\n",
    "data = cur.fetchall()\n",
    "for n in data:\n",
    "    print(n[0])"
   ]
  },
  {
   "cell_type": "markdown",
   "metadata": {},
   "source": [
    "### 2. Все дети из Тулы\n",
    "- JOIN"
   ]
  },
  {
   "cell_type": "code",
   "execution_count": 20,
   "metadata": {},
   "outputs": [
    {
     "name": "stdout",
     "output_type": "stream",
     "text": [
      "Petr Petrov\n",
      "Andrey Babkin\n",
      "Masha Levitina\n"
     ]
    }
   ],
   "source": [
    "q = (\"\"\"SELECT\n",
    "    children.name\n",
    "    , children.surname\n",
    "    FROM children\n",
    "    JOIN addresses\n",
    "    ON children.address_id = addresses.id\n",
    "    JOIN cities \n",
    "    ON addresses.city_id = cities.id\n",
    "    WHERE cities.name = 'Tula'\"\"\")\n",
    "\n",
    "cur.execute(q)\n",
    "data = cur.fetchall()\n",
    "for item in data:\n",
    "    print(' '.join(item))"
   ]
  },
  {
   "cell_type": "markdown",
   "metadata": {},
   "source": [
    "### 3. Число детей из Москвы\n",
    "- JOIN\n",
    "- Агрегация"
   ]
  },
  {
   "cell_type": "code",
   "execution_count": 23,
   "metadata": {},
   "outputs": [
    {
     "name": "stdout",
     "output_type": "stream",
     "text": [
      "1\n"
     ]
    }
   ],
   "source": [
    "q = (\"\"\"\n",
    "    SELECT\n",
    "    COUNT(children.id)\n",
    "    FROM children\n",
    "    JOIN addresses\n",
    "    ON children.address_id = addresses.id\n",
    "    JOIN cities \n",
    "    ON addresses.city_id = cities.id\n",
    "    WHERE cities.name = 'Moscow'\n",
    "    \"\"\")\n",
    "\n",
    "cur.execute(q)\n",
    "data = cur.fetchall()\n",
    "print(data[0][0])"
   ]
  },
  {
   "cell_type": "markdown",
   "metadata": {},
   "source": [
    "### 4. Вывести число заказов по каждому бренду \n",
    "- Where с объединением трёх таблиц в where"
   ]
  },
  {
   "cell_type": "code",
   "execution_count": 28,
   "metadata": {},
   "outputs": [
    {
     "name": "stdout",
     "output_type": "stream",
     "text": [
      "Apple: 2\n",
      "Hamleys: 1\n",
      "Lego: 2\n"
     ]
    }
   ],
   "source": [
    "q = (\"\"\"\n",
    "    SELECT brands.name\n",
    "    , COUNT(*) AS `num`\n",
    "    FROM children, gifts, brands\n",
    "    WHERE children.gift_id = gifts.id and brands.id = gifts.brand_id\n",
    "    GROUP BY name\n",
    "    \"\"\")\n",
    "\n",
    "cur.execute(q)\n",
    "data = cur.fetchall()\n",
    "for item, freq in data:\n",
    "    print(item, freq, sep=': ')"
   ]
  },
  {
   "cell_type": "markdown",
   "metadata": {},
   "source": [
    "### 5. Все города, в которых живут дети \n",
    "- вложенный SELECT"
   ]
  },
  {
   "cell_type": "markdown",
   "metadata": {},
   "source": [
    "В таблице cities указано больше городов, чем использовано в addresses."
   ]
  },
  {
   "cell_type": "code",
   "execution_count": 64,
   "metadata": {},
   "outputs": [
    {
     "name": "stdout",
     "output_type": "stream",
     "text": [
      "Moscow\n",
      "Tula\n",
      "Voronezh\n"
     ]
    }
   ],
   "source": [
    "q = (\"\"\"SELECT name \n",
    "        FROM cities \n",
    "        WHERE id IN \n",
    "            (SELECT city_id FROM children\n",
    "            JOIN addresses\n",
    "            ON children.address_id = addresses.id\n",
    "            );\"\"\")\n",
    "cur.execute(q)\n",
    "data = cur.fetchall()\n",
    "for item in data:\n",
    "    print(item[0])"
   ]
  },
  {
   "cell_type": "code",
   "execution_count": null,
   "metadata": {},
   "outputs": [],
   "source": []
  }
 ],
 "metadata": {
  "kernelspec": {
   "display_name": "Python 3",
   "language": "python",
   "name": "python3"
  },
  "language_info": {
   "codemirror_mode": {
    "name": "ipython",
    "version": 3
   },
   "file_extension": ".py",
   "mimetype": "text/x-python",
   "name": "python",
   "nbconvert_exporter": "python",
   "pygments_lexer": "ipython3",
   "version": "3.8.5"
  }
 },
 "nbformat": 4,
 "nbformat_minor": 4
}
